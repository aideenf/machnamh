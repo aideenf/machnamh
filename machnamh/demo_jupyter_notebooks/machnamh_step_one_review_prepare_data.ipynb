{
 "cells": [
  {
   "cell_type": "markdown",
   "metadata": {
    "ExecuteTime": {
     "end_time": "2020-08-31T18:00:37.226027Z",
     "start_time": "2020-08-31T18:00:37.060277Z"
    }
   },
   "source": [
    "<font size=\"6\"> <span style=\"color:green\">Use the Machnamh librarys' UX to review and pre-process the data</span> \n",
    "\n",
    "<font size=\"2\">\n",
    "\n"
   ]
  },
  {
   "cell_type": "code",
   "execution_count": 3,
   "metadata": {
    "ExecuteTime": {
     "end_time": "2020-09-01T11:42:05.970058Z",
     "start_time": "2020-09-01T11:42:00.192240Z"
    },
    "scrolled": true
   },
   "outputs": [
    {
     "data": {
      "text/html": [
       "<style>\n",
       ".box_style{\n",
       "    width:40%;\n",
       "    border : 2px solid red;\n",
       "    height: auto;\n",
       "    background-color:#34abeb;\n",
       "}\n",
       ".title_style{\n",
       "    width:40%;\n",
       "    border : 2px solid red;\n",
       "    height: auto;\n",
       "    background-color:green;\n",
       "}\n",
       "</style>"
      ],
      "text/plain": [
       "<IPython.core.display.HTML object>"
      ]
     },
     "metadata": {},
     "output_type": "display_data"
    },
    {
     "data": {
      "application/javascript": [
       "IPython.OutputArea.prototype._should_scroll = function(lines) {\n",
       "    return false;\n",
       "}"
      ],
      "text/plain": [
       "<IPython.core.display.Javascript object>"
      ]
     },
     "metadata": {},
     "output_type": "display_data"
    },
    {
     "data": {
      "application/vnd.jupyter.widget-view+json": {
       "model_id": "f86ed8f0cc844d7382f5e107f1660c33",
       "version_major": 2,
       "version_minor": 0
      },
      "text/plain": [
       "Box(children=(HTML(value='\\n            <font style=\"font-family:sans-serif; font-size:15px;color:white;\">\\n  …"
      ]
     },
     "metadata": {},
     "output_type": "display_data"
    },
    {
     "data": {
      "application/vnd.jupyter.widget-view+json": {
       "model_id": "555c88d112804a99a52a0f635c247a0b",
       "version_major": 2,
       "version_minor": 0
      },
      "text/plain": [
       "Box(children=(HTML(value='\\n            <font style=\"font-family:sans-serif; font-size:15px;color:black;\">\\n  …"
      ]
     },
     "metadata": {},
     "output_type": "display_data"
    },
    {
     "data": {
      "application/vnd.jupyter.widget-view+json": {
       "model_id": "daaf7918acc3465180759343659174e0",
       "version_major": 2,
       "version_minor": 0
      },
      "text/plain": [
       "GridBox(children=(HTML(value='<h3><left>Upload the data file to be used to train/test/validate your ML model :…"
      ]
     },
     "metadata": {},
     "output_type": "display_data"
    },
    {
     "data": {
      "application/vnd.jupyter.widget-view+json": {
       "model_id": "c37055b016cc40f89ebe2759438f82e5",
       "version_major": 2,
       "version_minor": 0
      },
      "text/plain": [
       "GridBox(children=(FileUpload(value={}, accept='.csv', button_style='success', description='Upload', layout=Lay…"
      ]
     },
     "metadata": {},
     "output_type": "display_data"
    },
    {
     "data": {
      "application/vnd.jupyter.widget-view+json": {
       "model_id": "32a9ab8e51de489f90d68874b26d2bf6",
       "version_major": 2,
       "version_minor": 0
      },
      "text/plain": [
       "Label(value='  ', layout=Layout(width='100%'))"
      ]
     },
     "metadata": {},
     "output_type": "display_data"
    },
    {
     "data": {
      "application/vnd.jupyter.widget-view+json": {
       "model_id": "c31535b312a04f22829da74744555aad",
       "version_major": 2,
       "version_minor": 0
      },
      "text/plain": [
       "GridBox(children=(HTML(value='<h3><left>Select the target (y):</left></h3> '),), layout=Layout(width='90%'))"
      ]
     },
     "metadata": {},
     "output_type": "display_data"
    },
    {
     "data": {
      "application/vnd.jupyter.widget-view+json": {
       "model_id": "223db60a3ef3436f984da6a7ee013a2d",
       "version_major": 2,
       "version_minor": 0
      },
      "text/plain": [
       "GridBox(children=(HTML(value='\\n            <font style=\"font-family:sans-serif; font-size:15px;color:grey;\">\\…"
      ]
     },
     "metadata": {},
     "output_type": "display_data"
    },
    {
     "data": {
      "application/vnd.jupyter.widget-view+json": {
       "model_id": "32a9ab8e51de489f90d68874b26d2bf6",
       "version_major": 2,
       "version_minor": 0
      },
      "text/plain": [
       "Label(value='  ', layout=Layout(width='100%'))"
      ]
     },
     "metadata": {},
     "output_type": "display_data"
    },
    {
     "data": {
      "application/vnd.jupyter.widget-view+json": {
       "model_id": "69afeca149fc4271832d6330acb5da9e",
       "version_major": 2,
       "version_minor": 0
      },
      "text/plain": [
       "GridBox(children=(HTML(value='<h3><left>Reflect upon the impact the prediction will have on an individual:</le…"
      ]
     },
     "metadata": {},
     "output_type": "display_data"
    },
    {
     "data": {
      "application/vnd.jupyter.widget-view+json": {
       "model_id": "81eaac9dab61465b9f43d33b30c1633c",
       "version_major": 2,
       "version_minor": 0
      },
      "text/plain": [
       "GridBox(children=(RadioButtons(description='A prediction in the high range (or binary 1) will have:', layout=L…"
      ]
     },
     "metadata": {},
     "output_type": "display_data"
    },
    {
     "data": {
      "application/vnd.jupyter.widget-view+json": {
       "model_id": "32a9ab8e51de489f90d68874b26d2bf6",
       "version_major": 2,
       "version_minor": 0
      },
      "text/plain": [
       "Label(value='  ', layout=Layout(width='100%'))"
      ]
     },
     "metadata": {},
     "output_type": "display_data"
    },
    {
     "data": {
      "application/vnd.jupyter.widget-view+json": {
       "model_id": "98d24c9928e04ab78560703bb02ae320",
       "version_major": 2,
       "version_minor": 0
      },
      "text/plain": [
       "GridBox(children=(HTML(value='<h3><left>Reflect upon the relationship between the target (y) and the ground-tr…"
      ]
     },
     "metadata": {},
     "output_type": "display_data"
    },
    {
     "data": {
      "application/vnd.jupyter.widget-view+json": {
       "model_id": "1d56eb90c213457894fd1581de9ef733",
       "version_major": 2,
       "version_minor": 0
      },
      "text/plain": [
       "GridBox(children=(RadioButtons(description='The target (y) is:', layout=Layout(grid_area='top', width='auto'),…"
      ]
     },
     "metadata": {},
     "output_type": "display_data"
    },
    {
     "data": {
      "application/vnd.jupyter.widget-view+json": {
       "model_id": "32a9ab8e51de489f90d68874b26d2bf6",
       "version_major": 2,
       "version_minor": 0
      },
      "text/plain": [
       "Label(value='  ', layout=Layout(width='100%'))"
      ]
     },
     "metadata": {},
     "output_type": "display_data"
    },
    {
     "data": {
      "application/vnd.jupyter.widget-view+json": {
       "model_id": "71f81da0c4a643a1b0ee6b68b4fff39c",
       "version_major": 2,
       "version_minor": 0
      },
      "text/plain": [
       "HTML(value='\\n            <h3><left>Select possible Input features and Protected features:</left></h3>')"
      ]
     },
     "metadata": {},
     "output_type": "display_data"
    },
    {
     "data": {
      "application/vnd.jupyter.widget-view+json": {
       "model_id": "f9ea6c7d8c214a0383ad68f0604461af",
       "version_major": 2,
       "version_minor": 0
      },
      "text/plain": [
       "GridBox(children=(GridBox(children=(HTML(value='\\n            <font style=\"font-family:sans-serif; font-size:1…"
      ]
     },
     "metadata": {},
     "output_type": "display_data"
    },
    {
     "data": {
      "application/vnd.jupyter.widget-view+json": {
       "model_id": "32a9ab8e51de489f90d68874b26d2bf6",
       "version_major": 2,
       "version_minor": 0
      },
      "text/plain": [
       "Label(value='  ', layout=Layout(width='100%'))"
      ]
     },
     "metadata": {},
     "output_type": "display_data"
    },
    {
     "data": {
      "application/vnd.jupyter.widget-view+json": {
       "model_id": "602306c9f67c40b48c08bd18d6e3db13",
       "version_major": 2,
       "version_minor": 0
      },
      "text/plain": [
       "HTML(value='<h3><left>Review and handle missing data:</left></h3> ')"
      ]
     },
     "metadata": {},
     "output_type": "display_data"
    },
    {
     "data": {
      "application/vnd.jupyter.widget-view+json": {
       "model_id": "a9a8eb3849e74656ae3306190cf42d96",
       "version_major": 2,
       "version_minor": 0
      },
      "text/plain": [
       "GridBox(children=(Button(button_style='success', description='Run missing data analysis', layout=Layout(grid_a…"
      ]
     },
     "metadata": {},
     "output_type": "display_data"
    },
    {
     "data": {
      "application/vnd.jupyter.widget-view+json": {
       "model_id": "32a9ab8e51de489f90d68874b26d2bf6",
       "version_major": 2,
       "version_minor": 0
      },
      "text/plain": [
       "Label(value='  ', layout=Layout(width='100%'))"
      ]
     },
     "metadata": {},
     "output_type": "display_data"
    },
    {
     "data": {
      "application/vnd.jupyter.widget-view+json": {
       "model_id": "fabcd1d0b0c848fe922b4b72c0bc4b2a",
       "version_major": 2,
       "version_minor": 0
      },
      "text/plain": [
       "HTML(value='<h3><left>Set a description for categorical feature value(s):</left></h3>\\n            We consider…"
      ]
     },
     "metadata": {},
     "output_type": "display_data"
    },
    {
     "data": {
      "application/vnd.jupyter.widget-view+json": {
       "model_id": "79402fca4ac4424cac79ed71ba8b6af5",
       "version_major": 2,
       "version_minor": 0
      },
      "text/plain": [
       "GridBox(children=(HTML(value='\\n            <font style=\"font-family:sans-serif; font-size:15px;color:grey;\">\\…"
      ]
     },
     "metadata": {},
     "output_type": "display_data"
    },
    {
     "data": {
      "application/vnd.jupyter.widget-view+json": {
       "model_id": "32a9ab8e51de489f90d68874b26d2bf6",
       "version_major": 2,
       "version_minor": 0
      },
      "text/plain": [
       "Label(value='  ', layout=Layout(width='100%'))"
      ]
     },
     "metadata": {},
     "output_type": "display_data"
    },
    {
     "data": {
      "application/vnd.jupyter.widget-view+json": {
       "model_id": "34e12bbafbb94e6fa875447e6c011635",
       "version_major": 2,
       "version_minor": 0
      },
      "text/plain": [
       "GridBox(children=(HTML(value='\\n            <h3><left>Identify the privileged group for each protected feature…"
      ]
     },
     "metadata": {},
     "output_type": "display_data"
    },
    {
     "data": {
      "application/vnd.jupyter.widget-view+json": {
       "model_id": "f47849eab15043a999daf2938a2283f0",
       "version_major": 2,
       "version_minor": 0
      },
      "text/plain": [
       "GridBox(children=(HTML(value='\\n            <font style=\"font-family:sans-serif; font-size:15px;color:grey;\">\\…"
      ]
     },
     "metadata": {},
     "output_type": "display_data"
    },
    {
     "data": {
      "application/vnd.jupyter.widget-view+json": {
       "model_id": "32a9ab8e51de489f90d68874b26d2bf6",
       "version_major": 2,
       "version_minor": 0
      },
      "text/plain": [
       "Label(value='  ', layout=Layout(width='100%'))"
      ]
     },
     "metadata": {},
     "output_type": "display_data"
    },
    {
     "data": {
      "application/vnd.jupyter.widget-view+json": {
       "model_id": "8d73b010e532445db890166e88d1177a",
       "version_major": 2,
       "version_minor": 0
      },
      "text/plain": [
       "GridBox(children=(HTML(value='\\n            <h3><left>Review and reflect upon the sample in terms of protected…"
      ]
     },
     "metadata": {},
     "output_type": "display_data"
    },
    {
     "data": {
      "application/vnd.jupyter.widget-view+json": {
       "model_id": "860fd03ad6614ee3b15ac56ad2aa11b1",
       "version_major": 2,
       "version_minor": 0
      },
      "text/plain": [
       "GridBox(children=(HTML(value='\\n            <font style=\"font-family:sans-serif; font-size:15px;color:grey;\">\\…"
      ]
     },
     "metadata": {},
     "output_type": "display_data"
    },
    {
     "data": {
      "application/vnd.jupyter.widget-view+json": {
       "model_id": "32a9ab8e51de489f90d68874b26d2bf6",
       "version_major": 2,
       "version_minor": 0
      },
      "text/plain": [
       "Label(value='  ', layout=Layout(width='100%'))"
      ]
     },
     "metadata": {},
     "output_type": "display_data"
    },
    {
     "data": {
      "application/vnd.jupyter.widget-view+json": {
       "model_id": "de6cf22e5d3d43e596eba3faa87babd2",
       "version_major": 2,
       "version_minor": 0
      },
      "text/plain": [
       "GridBox(children=(HTML(value='\\n            <h3><left>Review and reflect upon the distribution of the target(y…"
      ]
     },
     "metadata": {},
     "output_type": "display_data"
    },
    {
     "data": {
      "application/vnd.jupyter.widget-view+json": {
       "model_id": "2097f86d12914197898f9013337de6c3",
       "version_major": 2,
       "version_minor": 0
      },
      "text/plain": [
       "GridBox(children=(HTML(value='\\n            <font style=\"font-family:sans-serif; font-size:15px;color:grey;\">\\…"
      ]
     },
     "metadata": {},
     "output_type": "display_data"
    },
    {
     "data": {
      "application/vnd.jupyter.widget-view+json": {
       "model_id": "32a9ab8e51de489f90d68874b26d2bf6",
       "version_major": 2,
       "version_minor": 0
      },
      "text/plain": [
       "Label(value='  ', layout=Layout(width='100%'))"
      ]
     },
     "metadata": {},
     "output_type": "display_data"
    },
    {
     "data": {
      "application/vnd.jupyter.widget-view+json": {
       "model_id": "7ce98f3add494117b539482bcdc52359",
       "version_major": 2,
       "version_minor": 0
      },
      "text/plain": [
       "GridBox(children=(HTML(value='<h3><left>Input feature analysis:</left></h3>\\n            <font style = \"color:…"
      ]
     },
     "metadata": {},
     "output_type": "display_data"
    },
    {
     "data": {
      "application/vnd.jupyter.widget-view+json": {
       "model_id": "e70c0f52c16745369fe9b48c7bedef3f",
       "version_major": 2,
       "version_minor": 0
      },
      "text/plain": [
       "GridBox(children=(HTML(value='<font style=\"font-family:sans-serif; font-size:15px;color:grey;\">\\n            T…"
      ]
     },
     "metadata": {},
     "output_type": "display_data"
    },
    {
     "data": {
      "application/vnd.jupyter.widget-view+json": {
       "model_id": "32a9ab8e51de489f90d68874b26d2bf6",
       "version_major": 2,
       "version_minor": 0
      },
      "text/plain": [
       "Label(value='  ', layout=Layout(width='100%'))"
      ]
     },
     "metadata": {},
     "output_type": "display_data"
    },
    {
     "data": {
      "application/vnd.jupyter.widget-view+json": {
       "model_id": "99fdc62eabca405fbdff2111a74c8d01",
       "version_major": 2,
       "version_minor": 0
      },
      "text/plain": [
       "HTML(value='<h3><left>Optionally drop input features based on analysis:</left></h3>')"
      ]
     },
     "metadata": {},
     "output_type": "display_data"
    },
    {
     "data": {
      "application/vnd.jupyter.widget-view+json": {
       "model_id": "8eaca194a2df44219b2cada7e534f37f",
       "version_major": 2,
       "version_minor": 0
      },
      "text/plain": [
       "GridBox(children=(SelectMultiple(description='Features', layout=Layout(grid_area='topl', width='auto'), option…"
      ]
     },
     "metadata": {},
     "output_type": "display_data"
    },
    {
     "data": {
      "application/vnd.jupyter.widget-view+json": {
       "model_id": "c08a521c485a4f7ab67c78e5b1ba7e17",
       "version_major": 2,
       "version_minor": 0
      },
      "text/plain": [
       "Output()"
      ]
     },
     "metadata": {},
     "output_type": "display_data"
    },
    {
     "data": {
      "application/vnd.jupyter.widget-view+json": {
       "model_id": "32a9ab8e51de489f90d68874b26d2bf6",
       "version_major": 2,
       "version_minor": 0
      },
      "text/plain": [
       "Label(value='  ', layout=Layout(width='100%'))"
      ]
     },
     "metadata": {},
     "output_type": "display_data"
    },
    {
     "data": {
      "application/vnd.jupyter.widget-view+json": {
       "model_id": "0c3de2237d4045bca94020a60e2b8e55",
       "version_major": 2,
       "version_minor": 0
      },
      "text/plain": [
       "GridBox(children=(HTML(value='\\n            <h3><left>Reflect on the input features relationship with the prot…"
      ]
     },
     "metadata": {},
     "output_type": "display_data"
    },
    {
     "data": {
      "application/vnd.jupyter.widget-view+json": {
       "model_id": "8a5de2703c594a7886023df4e2147c85",
       "version_major": 2,
       "version_minor": 0
      },
      "text/plain": [
       "GridBox(children=(Output(layout=Layout(grid_area='top')),), layout=Layout(border='1px solid grey', grid_gap='1…"
      ]
     },
     "metadata": {},
     "output_type": "display_data"
    },
    {
     "data": {
      "application/vnd.jupyter.widget-view+json": {
       "model_id": "32a9ab8e51de489f90d68874b26d2bf6",
       "version_major": 2,
       "version_minor": 0
      },
      "text/plain": [
       "Label(value='  ', layout=Layout(width='100%'))"
      ]
     },
     "metadata": {},
     "output_type": "display_data"
    },
    {
     "data": {
      "application/vnd.jupyter.widget-view+json": {
       "model_id": "1cb734f3da554e1fbb412e15b04e16b7",
       "version_major": 2,
       "version_minor": 0
      },
      "text/plain": [
       "HTML(value='<h3><left>Merge Categorical feature levels (unique values): </left></h3> \\n            ')"
      ]
     },
     "metadata": {},
     "output_type": "display_data"
    },
    {
     "data": {
      "application/vnd.jupyter.widget-view+json": {
       "model_id": "4f9e08db4a07489f928ff53ffb64d487",
       "version_major": 2,
       "version_minor": 0
      },
      "text/plain": [
       "GridBox(children=(HTML(value='\\n            <font style=\"font-family:sans-serif; font-size:15px;color:grey;\">\\…"
      ]
     },
     "metadata": {},
     "output_type": "display_data"
    },
    {
     "data": {
      "application/vnd.jupyter.widget-view+json": {
       "model_id": "32a9ab8e51de489f90d68874b26d2bf6",
       "version_major": 2,
       "version_minor": 0
      },
      "text/plain": [
       "Label(value='  ', layout=Layout(width='100%'))"
      ]
     },
     "metadata": {},
     "output_type": "display_data"
    },
    {
     "data": {
      "application/vnd.jupyter.widget-view+json": {
       "model_id": "0f06064f598e404d868836236d55c478",
       "version_major": 2,
       "version_minor": 0
      },
      "text/plain": [
       "HTML(value='<h3><left>Label-Encode <b>Ordinal</b> categorical features: </left></h3>\\n            Categorical …"
      ]
     },
     "metadata": {},
     "output_type": "display_data"
    },
    {
     "data": {
      "application/vnd.jupyter.widget-view+json": {
       "model_id": "79df1e7b286e45f89e0f249186f36561",
       "version_major": 2,
       "version_minor": 0
      },
      "text/plain": [
       "GridBox(children=(HTML(value='\\n            <font style=\"font-family:sans-serif; font-size:15px;color:grey;\">\\…"
      ]
     },
     "metadata": {},
     "output_type": "display_data"
    },
    {
     "data": {
      "application/vnd.jupyter.widget-view+json": {
       "model_id": "32a9ab8e51de489f90d68874b26d2bf6",
       "version_major": 2,
       "version_minor": 0
      },
      "text/plain": [
       "Label(value='  ', layout=Layout(width='100%'))"
      ]
     },
     "metadata": {},
     "output_type": "display_data"
    },
    {
     "data": {
      "application/vnd.jupyter.widget-view+json": {
       "model_id": "49dd259fbb1d4bbfb7dd42a0c848bceb",
       "version_major": 2,
       "version_minor": 0
      },
      "text/plain": [
       "HTML(value='<h3><left>One-Hot-Encode <b>Nominal</b> categorical features: </left></h3>\\n            Categorica…"
      ]
     },
     "metadata": {},
     "output_type": "display_data"
    },
    {
     "data": {
      "application/vnd.jupyter.widget-view+json": {
       "model_id": "af8ebcfc045940eba7b302618c2e6c2a",
       "version_major": 2,
       "version_minor": 0
      },
      "text/plain": [
       "GridBox(children=(HTML(value='\\n            <font style=\"font-family:sans-serif; font-size:15px;color:grey;\">\\…"
      ]
     },
     "metadata": {},
     "output_type": "display_data"
    },
    {
     "data": {
      "application/vnd.jupyter.widget-view+json": {
       "model_id": "32a9ab8e51de489f90d68874b26d2bf6",
       "version_major": 2,
       "version_minor": 0
      },
      "text/plain": [
       "Label(value='  ', layout=Layout(width='100%'))"
      ]
     },
     "metadata": {},
     "output_type": "display_data"
    },
    {
     "data": {
      "application/vnd.jupyter.widget-view+json": {
       "model_id": "8354bf0436324bc0bc4043e31b823cee",
       "version_major": 2,
       "version_minor": 0
      },
      "text/plain": [
       "HTML(value='<h3><left>Scale/Normalise numeric input features: </left></h3>')"
      ]
     },
     "metadata": {},
     "output_type": "display_data"
    },
    {
     "data": {
      "application/vnd.jupyter.widget-view+json": {
       "model_id": "cbe2496c58424ee78b097b776a9443a3",
       "version_major": 2,
       "version_minor": 0
      },
      "text/plain": [
       "GridBox(children=(HTML(value='\\n            <font style=\"font-family:sans-serif; font-size:15px;color:grey;\">\\…"
      ]
     },
     "metadata": {},
     "output_type": "display_data"
    },
    {
     "data": {
      "application/vnd.jupyter.widget-view+json": {
       "model_id": "ad416ed6d28e4c30a520ff65f76f3869",
       "version_major": 2,
       "version_minor": 0
      },
      "text/plain": [
       "HTML(value='<h3><left>Save transformed data to file.</left></h3>')"
      ]
     },
     "metadata": {},
     "output_type": "display_data"
    },
    {
     "data": {
      "application/vnd.jupyter.widget-view+json": {
       "model_id": "a0adb842af4d4e61bb1f5234f929932d",
       "version_major": 2,
       "version_minor": 0
      },
      "text/plain": [
       "Output()"
      ]
     },
     "metadata": {},
     "output_type": "display_data"
    },
    {
     "data": {
      "text/plain": [
       "<Figure size 576x396 with 0 Axes>"
      ]
     },
     "metadata": {},
     "output_type": "display_data"
    }
   ],
   "source": [
    "import machnamh \n",
    "from machnamh import pre_process as mpp\n",
    "dpUI = mpp.data_pre_process_UI()\n",
    "dpUI.render(use_demo_data = True)\n"
   ]
  },
  {
   "cell_type": "code",
   "execution_count": null,
   "metadata": {},
   "outputs": [],
   "source": []
  }
 ],
 "metadata": {
  "hide_input": false,
  "kernelspec": {
   "display_name": "Python 3",
   "language": "python",
   "name": "python3"
  },
  "language_info": {
   "codemirror_mode": {
    "name": "ipython",
    "version": 3
   },
   "file_extension": ".py",
   "mimetype": "text/x-python",
   "name": "python",
   "nbconvert_exporter": "python",
   "pygments_lexer": "ipython3",
   "version": "3.7.2"
  },
  "toc": {
   "base_numbering": 1,
   "nav_menu": {},
   "number_sections": true,
   "sideBar": true,
   "skip_h1_title": false,
   "title_cell": "Table of Contents",
   "title_sidebar": "Contents",
   "toc_cell": false,
   "toc_position": {},
   "toc_section_display": true,
   "toc_window_display": false
  }
 },
 "nbformat": 4,
 "nbformat_minor": 4
}
